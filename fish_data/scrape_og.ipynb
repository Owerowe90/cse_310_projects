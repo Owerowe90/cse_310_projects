{
 "cells": [
  {
   "cell_type": "code",
   "execution_count": null,
   "metadata": {},
   "outputs": [],
   "source": [
    "import requests\n",
    "from bs4 import BeautifulSoup\n",
    "import urllib.request\n",
    "import os"
   ]
  },
  {
   "cell_type": "code",
   "execution_count": null,
   "metadata": {},
   "outputs": [],
   "source": [
    "# Rainbow Trout\n",
    "url = \"https://www.google.com/search?q=rainbow+trout+fish&source=lnms&tbm=isch&sa=X&ved=2ahUKEwjlzJ2To9j-AhUNJkQIHRSNDgkQ0pQJegQIBRAC&biw=1470&bih=764&dpr=2\"\n",
    "\n",
    "# Send a GET request to the URL\n",
    "response = requests.get(url)\n",
    "\n",
    "# Parse the HTML content of the response\n",
    "soup = BeautifulSoup(response.content, \"html.parser\")\n",
    "\n",
    "# Find all the image tags in the HTML content\n",
    "image_tags = soup.find_all(\"img\")\n",
    "\n",
    "# Download the images\n",
    "folder_path = \"/Users/owenrowe/Desktop/cse310/fish_data/rainbow/\"\n",
    "if not os.path.exists(folder_path):\n",
    "    os.makedirs(folder_path)\n",
    "\n",
    "for i, tag in enumerate(image_tags):\n",
    "    try:\n",
    "        image_url = tag[\"src\"]\n",
    "        if image_url.startswith(\"http\"):\n",
    "            filename = folder_path + \"image_\" + str(i + 1) + \".jpg\"\n",
    "            urllib.request.urlretrieve(image_url, filename)\n",
    "    except:\n",
    "        pass"
   ]
  },
  {
   "cell_type": "code",
   "execution_count": null,
   "metadata": {},
   "outputs": [],
   "source": [
    "# Brooke Trout\n",
    "url = \"https://www.google.com/search?q=picture+of+brook+trout&sxsrf=APwXEddzxZqhm2zEZGaG_uTSFzzhKIg1qw:1683146122965&source=lnms&tbm=isch&sa=X&ved=2ahUKEwi8s472_9n-AhUsAjQIHYujB5sQ0pQJegQIARAC&biw=1470&bih=813&dpr=2\"\n",
    "\n",
    "# Send a GET request to the URL\n",
    "response = requests.get(url)\n",
    "\n",
    "# Parse the HTML content of the response\n",
    "soup = BeautifulSoup(response.content, \"html.parser\")\n",
    "\n",
    "# Find all the image tags in the HTML content\n",
    "image_tags = soup.find_all(\"img\", \"picture\")\n",
    "\n",
    "# Download the images\n",
    "folder_path = \"/Users/owenrowe/Desktop/cse310/fish_data/brooke/\"\n",
    "if not os.path.exists(folder_path):\n",
    "    os.makedirs(folder_path)\n",
    "\n",
    "for i, tag in enumerate(image_tags):\n",
    "    try:\n",
    "        image_url = tag[\"src\"]\n",
    "        if image_url.startswith(\"http\"):\n",
    "            filename = folder_path + \"image_\" + str(i + 1) + \".jpg\"\n",
    "            urllib.request.urlretrieve(image_url, filename)\n",
    "    except:\n",
    "        pass"
   ]
  },
  {
   "cell_type": "code",
   "execution_count": null,
   "metadata": {},
   "outputs": [],
   "source": [
    "# Cutthrout Trout\n",
    "url = \"https://www.google.com/search?q=picture+of+cutthroat+trout&sxsrf=APwXEdfkCtyhNRzqEXgKUokl-AzjrutChQ:1683146191270&source=lnms&tbm=isch&sa=X&ved=2ahUKEwjvqNeWgNr-AhVkJTQIHdf_DUoQ0pQJegQIBhAC&biw=1470&bih=813&dpr=2\"\n",
    "# Send a GET request to the URL\n",
    "response = requests.get(url)\n",
    "\n",
    "# Parse the HTML content of the response\n",
    "soup = BeautifulSoup(response.content, \"html.parser\")\n",
    "\n",
    "# Find all the image tags in the HTML content\n",
    "image_tags = soup.find_all(\"img\")\n",
    "\n",
    "# Download the images\n",
    "folder_path = \"/Users/owenrowe/Desktop/cse310/fish_data/cutthroat/\"\n",
    "if not os.path.exists(folder_path):\n",
    "    os.makedirs(folder_path)\n",
    "\n",
    "for i, tag in enumerate(image_tags):\n",
    "    try:\n",
    "        image_url = tag[\"src\"]\n",
    "        if image_url.startswith(\"http\"):\n",
    "            filename = folder_path + \"image_\" + str(i + 1) + \".jpg\"\n",
    "            urllib.request.urlretrieve(image_url, filename)\n",
    "    except:\n",
    "        pass"
   ]
  },
  {
   "cell_type": "code",
   "execution_count": null,
   "metadata": {},
   "outputs": [],
   "source": [
    "# Tiger Trout\n",
    "url = \"https://www.google.com/search?q=picture+of+tiger+trout&sxsrf=APwXEdeX9iN4ucBzRCecWncZItr4Nx1M4w:1683146148081&source=lnms&tbm=isch&sa=X&ved=2ahUKEwjMqYqCgNr-AhXKIjQIHZWLAQYQ0pQJegQIBhAC&biw=1470&bih=813&dpr=2\"\n",
    "\n",
    "# Send a GET request to the URL\n",
    "response = requests.get(url)\n",
    "\n",
    "# Parse the HTML content of the response\n",
    "soup = BeautifulSoup(response.content, \"html.parser\")\n",
    "\n",
    "# Find all the image tags in the HTML content\n",
    "image_tags = soup.find_all(\"img\")\n",
    "\n",
    "# Download the images\n",
    "folder_path = \"/Users/owenrowe/Desktop/cse310/fish_data/tiger/\"\n",
    "if not os.path.exists(folder_path):\n",
    "    os.makedirs(folder_path)\n",
    "\n",
    "for i, tag in enumerate(image_tags):\n",
    "    try:\n",
    "        image_url = tag[\"src\"]\n",
    "        if image_url.startswith(\"http\"):\n",
    "            filename = folder_path + \"image_\" + str(i + 1) + \".jpg\"\n",
    "            urllib.request.urlretrieve(image_url, filename)\n",
    "    except:\n",
    "        pass"
   ]
  },
  {
   "cell_type": "code",
   "execution_count": null,
   "metadata": {},
   "outputs": [],
   "source": [
    "# Brown Trout\n",
    "url = \"https://www.google.com/search?q=picture+of+brown+trout&sxsrf=APwXEdfW51qdjHLTP0i93BnpiaBMF4i9bQ:1683146211805&source=lnms&tbm=isch&sa=X&ved=2ahUKEwiw1ryggNr-AhWCJX0KHa_YBNYQ0pQJegQIBRAC&biw=1470&bih=813&dpr=2\"\n",
    "# Send a GET request to the URL\n",
    "response = requests.get(url)\n",
    "\n",
    "# Parse the HTML content of the response\n",
    "soup = BeautifulSoup(response.content, \"html.parser\")\n",
    "\n",
    "# Find all the image tags in the HTML content\n",
    "image_tags = soup.find_all(\"img\")\n",
    "\n",
    "# Download the images\n",
    "folder_path = \"/Users/owenrowe/Desktop/cse310/fish_data/brown/\"\n",
    "if not os.path.exists(folder_path):\n",
    "    os.makedirs(folder_path)\n",
    "\n",
    "for i, tag in enumerate(image_tags):\n",
    "    try:\n",
    "        image_url = tag[\"src\"]\n",
    "        if image_url.startswith(\"http\"):\n",
    "            filename = folder_path + \"image_\" + str(i + 1) + \".jpg\"\n",
    "            urllib.request.urlretrieve(image_url, filename)\n",
    "    except:\n",
    "        pass"
   ]
  }
 ],
 "metadata": {
  "kernelspec": {
   "display_name": "Python 3",
   "language": "python",
   "name": "python3"
  },
  "language_info": {
   "name": "python",
   "version": "3.9.6 (default, Mar 10 2023, 20:16:38) \n[Clang 14.0.3 (clang-1403.0.22.14.1)]"
  },
  "orig_nbformat": 4,
  "vscode": {
   "interpreter": {
    "hash": "31f2aee4e71d21fbe5cf8b01ff0e069b9275f58929596ceb00d14d90e3e16cd6"
   }
  }
 },
 "nbformat": 4,
 "nbformat_minor": 2
}
