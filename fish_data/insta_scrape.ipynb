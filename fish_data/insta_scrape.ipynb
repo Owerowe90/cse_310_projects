{
 "cells": [
  {
   "cell_type": "code",
   "execution_count": 3,
   "metadata": {},
   "outputs": [
    {
     "ename": "ModuleNotFoundError",
     "evalue": "No module named 'instagram_private_api'",
     "output_type": "error",
     "traceback": [
      "\u001b[0;31m---------------------------------------------------------------------------\u001b[0m",
      "\u001b[0;31mModuleNotFoundError\u001b[0m                       Traceback (most recent call last)",
      "Cell \u001b[0;32mIn[3], line 3\u001b[0m\n\u001b[1;32m      1\u001b[0m \u001b[39mimport\u001b[39;00m \u001b[39mos\u001b[39;00m\n\u001b[1;32m      2\u001b[0m \u001b[39mfrom\u001b[39;00m \u001b[39murllib\u001b[39;00m\u001b[39m.\u001b[39;00m\u001b[39mrequest\u001b[39;00m \u001b[39mimport\u001b[39;00m urlretrieve\n\u001b[0;32m----> 3\u001b[0m \u001b[39mfrom\u001b[39;00m \u001b[39minstagram_private_api\u001b[39;00m \u001b[39mimport\u001b[39;00m Client, ClientCompatPatch\n\u001b[1;32m      5\u001b[0m \u001b[39m# Without any authentication\u001b[39;00m\n\u001b[1;32m      6\u001b[0m web_api \u001b[39m=\u001b[39m Client(auto_patch\u001b[39m=\u001b[39m\u001b[39mTrue\u001b[39;00m, drop_incompat_keys\u001b[39m=\u001b[39m\u001b[39mFalse\u001b[39;00m)\n",
      "\u001b[0;31mModuleNotFoundError\u001b[0m: No module named 'instagram_private_api'"
     ]
    }
   ],
   "source": [
    "import os\n",
    "from urllib.request import urlretrieve\n",
    "from instagram_private_api import Client, ClientCompatPatch\n",
    "\n",
    "# Without any authentication\n",
    "web_api = Client(auto_patch=True, drop_incompat_keys=False)\n",
    "tag_feed_info = web_api.feed_tag('rainbowtrout', count=10)\n",
    "path = '/Users/owenrowe/Desktop/cse310/fish_data/insta_rainbow' # Replace with your desired folder path\n",
    "\n",
    "for post in tag_feed_info['ranked_items']:\n",
    "    if 'image_versions2' in post:\n",
    "        image_url = post['image_versions2']['candidates'][0]['url']\n",
    "        filename = os.path.join(path, f\"{post['id']}.jpg\")\n",
    "        urlretrieve(image_url, filename)\n",
    "        print(f\"Downloaded {filename}\")\n"
   ]
  }
 ],
 "metadata": {
  "kernelspec": {
   "display_name": "Python 3",
   "language": "python",
   "name": "python3"
  },
  "language_info": {
   "codemirror_mode": {
    "name": "ipython",
    "version": 3
   },
   "file_extension": ".py",
   "mimetype": "text/x-python",
   "name": "python",
   "nbconvert_exporter": "python",
   "pygments_lexer": "ipython3",
   "version": "3.9.6"
  },
  "orig_nbformat": 4,
  "vscode": {
   "interpreter": {
    "hash": "31f2aee4e71d21fbe5cf8b01ff0e069b9275f58929596ceb00d14d90e3e16cd6"
   }
  }
 },
 "nbformat": 4,
 "nbformat_minor": 2
}
